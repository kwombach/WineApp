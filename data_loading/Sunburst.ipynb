{
 "cells": [
  {
   "cell_type": "code",
   "execution_count": 2,
   "metadata": {
    "collapsed": true
   },
   "outputs": [],
   "source": [
    "from price_clouds import word_clouds\n",
    "import operator\n",
    "data = word_clouds('variant', 'wine_variant')\n",
    "# Cabernet Sauvignon : data[19]\n",
    "# Chardonnay : data[32]\n",
    "# Malbec : data[93]\n",
    "# Merlot : data[111]\n",
    "# Pinot Noir : data[171]\n",
    "# Riesling : data[187]\n",
    "# Sauvignon Blanc : data[202]\n",
    "# Zinfindel : data[261]"
   ]
  },
  {
   "cell_type": "code",
   "execution_count": null,
   "metadata": {
    "collapsed": true
   },
   "outputs": [],
   "source": []
  },
  {
   "cell_type": "code",
   "execution_count": 3,
   "metadata": {},
   "outputs": [
    {
     "name": "stdout",
     "output_type": "stream",
     "text": [
      "[('tannin', 35666), ('dark', 32163), ('cab', 25518), ('cherry', 20515), ('oak', 20124), ('smooth', 14535), ('medium', 12507), ('cassis', 11170), ('blackberry', 10722), ('balanced', 10618), ('currant', 10438), ('big', 10078), ('spice', 9911), ('vanilla', 9785), ('chocolate', 9610), ('sweet', 9595), ('rich', 8916), ('berry', 8824), ('balance', 8647), ('plum', 8496), ('deep', 7753), ('acidity', 7465), ('cedar', 7224), ('napa', 7169), ('aroma', 7008), ('ripe', 6832), ('structure', 6694), ('tobacco', 6568), ('open', 6434), ('bodied', 6191), ('soft', 6190), ('young', 6132), ('purple', 5659), ('point', 5597), ('body', 5484), ('complex', 5453), ('leather', 5389), ('integrated', 5307), ('light', 5135), ('decant', 4897), ('tannic', 4894), ('earth', 4865), ('night', 4849), ('vintage', 4699), ('complexity', 4698), ('pepper', 4607), ('solid', 4483), ('enjoyable', 4450), ('strong', 4120), ('minute', 4117), ('left', 4004), ('pretty', 3979), ('forward', 3781), ('value', 3776), ('decent', 3753), ('licorice', 3665), ('green', 3647), ('second', 3622), ('tight', 3554), ('qpr', 3529), ('style', 3500), ('blueberry', 3496), ('couple', 3420), ('ruby', 3403), ('steak', 3379), ('enjoyed', 3367), ('bad', 3349), ('come', 3271), ('high', 3268), ('short', 3257), ('raspberry', 3251), ('also', 3218), ('silky', 3215), ('old', 3214), ('feel', 3101), ('le', 3069), ('elegant', 3049), ('classic', 3025), ('mint', 2996), ('dry', 2986), ('pleasant', 2915), ('decanting', 2914), ('popped', 2904), ('coffee', 2887), ('hold', 2846), ('made', 2783), ('fruity', 2780), ('earthy', 2755), ('slight', 2738), ('heat', 2736), ('garnet', 2723), ('depth', 2688), ('herb', 2680), ('plenty', 2672), ('ca', 2652), ('give', 2616), ('smoke', 2607), ('mocha', 2602), ('past', 2536), ('may', 2527)]\n"
     ]
    }
   ],
   "source": [
    "# Cabernet Sauvignon\n",
    "x = data[19][1]\n",
    "sorted_x = sorted(x.items(), key=operator.itemgetter(1), reverse=True)\n",
    "\n",
    "print(sorted_x)"
   ]
  },
  {
   "cell_type": "code",
   "execution_count": null,
   "metadata": {
    "collapsed": true
   },
   "outputs": [],
   "source": [
    "# Cabernet Sauvignon 5 Words: \n",
    "cherry \n",
    "oak \n",
    "cassis\n",
    "blackberry\n",
    "currant "
   ]
  },
  {
   "cell_type": "code",
   "execution_count": 4,
   "metadata": {},
   "outputs": [
    {
     "name": "stdout",
     "output_type": "stream",
     "text": [
      "[('oak', 15165), ('acidity', 12817), ('lemon', 11498), ('apple', 10963), ('citrus', 9982), ('mineral', 9030), ('light', 7927), ('pear', 6661), ('yellow', 6653), ('rich', 6340), ('medium', 6065), ('chard', 5809), ('balanced', 5284), ('balance', 5209), ('minerality', 4842), ('vanilla', 4803), ('butter', 4355), ('tropical', 4296), ('green', 4233), ('crisp', 4203), ('aroma', 3963), ('buttery', 3702), ('fresh', 3508), ('ripe', 3469), ('creamy', 3463), ('pineapple', 3235), ('honey', 3173), ('golden', 3115), ('chablis', 3034), ('sweet', 3015), ('clean', 2999), ('big', 2964), ('peach', 2652), ('style', 2650), ('complex', 2629), ('spice', 2545), ('bright', 2503), ('smooth', 2486), ('stone', 2398), ('gold', 2393), ('le', 2368), ('bodied', 2273), ('pale', 2261), ('young', 2245), ('tart', 2196), ('body', 2174), ('floral', 2137), ('oaky', 2119), ('complexity', 2084), ('butterscotch', 2051), ('texture', 1989), ('lime', 1959), ('flower', 1932), ('vintage', 1915), ('point', 1862), ('elegant', 1853), ('enjoyable', 1772), ('straw', 1757), ('high', 1751), ('also', 1747), ('open', 1739), ('pretty', 1689), ('slight', 1680), ('feel', 1613), ('deep', 1570), ('depth', 1537), ('intense', 1534), ('caramel', 1524), ('value', 1518), ('dry', 1517), ('toast', 1512), ('california', 1508), ('soft', 1488), ('strong', 1487), ('round', 1465), ('orange', 1460), ('clear', 1452), ('burgundy', 1439), ('come', 1438), ('cream', 1434), ('acidic', 1420), ('ca', 1401), ('weight', 1369), ('pleasant', 1366), ('night', 1358), ('decent', 1347), ('integrated', 1334), ('solid', 1322), ('perhaps', 1317), ('toasty', 1311), ('tight', 1310), ('enjoyed', 1310), ('structure', 1301), ('nut', 1288), ('quality', 1282), ('apricot', 1277), ('without', 1257), ('heavy', 1232), ('made', 1209), ('hazelnut', 1200)]\n"
     ]
    }
   ],
   "source": [
    "# Chardonnay : data[32]\n",
    "\n",
    "x = data[32][1]\n",
    "sorted_x = sorted(x.items(), key=operator.itemgetter(1), reverse=True)\n",
    "print(sorted_x)"
   ]
  },
  {
   "cell_type": "code",
   "execution_count": null,
   "metadata": {
    "collapsed": true
   },
   "outputs": [],
   "source": [
    "# Chardonnay 5 Words: \n",
    "oak \n",
    "lemon \n",
    "apple \n",
    "citrus \n",
    "mineral "
   ]
  },
  {
   "cell_type": "code",
   "execution_count": 5,
   "metadata": {},
   "outputs": [
    {
     "name": "stdout",
     "output_type": "stream",
     "text": [
      "[('dark', 3076), ('tannin', 2277), ('cherry', 1526), ('oak', 1376), ('medium', 1271), ('blackberry', 1147), ('plum', 1139), ('spice', 1133), ('smooth', 1083), ('purple', 1022), ('berry', 925), ('acidity', 893), ('deep', 758), ('chocolate', 735), ('balanced', 696), ('vanilla', 674), ('sweet', 670), ('big', 638), ('rich', 636), ('value', 627), ('aroma', 621), ('bodied', 582), ('body', 578), ('ripe', 561), ('qpr', 538), ('pepper', 529), ('balance', 505), ('soft', 493), ('light', 492), ('blueberry', 484), ('raspberry', 459), ('fruity', 452), ('decent', 417), ('structure', 414), ('point', 410), ('malbecs', 385), ('complex', 380), ('open', 378), ('earth', 373), ('le', 368), ('strong', 361), ('pretty', 357), ('enjoyable', 355), ('night', 349), ('solid', 348), ('complexity', 346), ('steak', 345), ('dry', 338), ('bad', 337), ('leather', 334), ('tobacco', 333), ('spicy', 332), ('short', 322), ('tannic', 321), ('forward', 306), ('young', 305), ('pleasant', 302), ('violet', 298), ('smoke', 282), ('currant', 280), ('second', 280), ('ruby', 276), ('simple', 273), ('high', 273), ('licorice', 272), ('easy', 270), ('also', 255), ('earthy', 254), ('coffee', 251), ('tart', 250), ('mocha', 246), ('integrated', 240), ('heat', 240), ('inky', 236), ('feel', 233), ('cedar', 232), ('decant', 231), ('meat', 230), ('hot', 230), ('jammy', 226), ('made', 224), ('style', 222), ('enjoyed', 222), ('bright', 220), ('quality', 219), ('heavy', 213), ('minute', 213), ('cassis', 205), ('round', 201), ('juicy', 201), ('couple', 200), ('come', 200), ('floral', 199), ('mineral', 198), ('slight', 197), ('strawberry', 194), ('bitter', 194), ('midpalate', 192), ('catena', 190), ('depth', 188)]\n"
     ]
    }
   ],
   "source": [
    "# Malbec : data[93]\n",
    "\n",
    "x = data[93][1]\n",
    "sorted_x = sorted(x.items(), key=operator.itemgetter(1), reverse=True)\n",
    "print(sorted_x)"
   ]
  },
  {
   "cell_type": "code",
   "execution_count": null,
   "metadata": {
    "collapsed": true
   },
   "outputs": [],
   "source": [
    "# Malbec 5 Words:\n",
    "cherry \n",
    "oak \n",
    "blackberry \n",
    "plum \n",
    "chocolate "
   ]
  },
  {
   "cell_type": "code",
   "execution_count": 6,
   "metadata": {},
   "outputs": [
    {
     "name": "stdout",
     "output_type": "stream",
     "text": [
      "[('dark', 4161), ('tannin', 3766), ('cherry', 3533), ('oak', 2722), ('chocolate', 2273), ('smooth', 1953), ('plum', 1925), ('medium', 1878), ('vanilla', 1573), ('spice', 1444), ('berry', 1404), ('big', 1303), ('rich', 1258), ('balanced', 1196), ('blackberry', 1194), ('sweet', 1175), ('acidity', 1080), ('soft', 1002), ('aroma', 977), ('deep', 969), ('ripe', 964), ('balance', 949), ('bodied', 921), ('body', 798), ('structure', 796), ('open', 778), ('light', 757), ('purple', 737), ('mocha', 692), ('night', 679), ('complex', 677), ('currant', 655), ('point', 637), ('value', 613), ('enjoyable', 605), ('complexity', 602), ('tannic', 598), ('raspberry', 591), ('tobacco', 577), ('qpr', 571), ('blueberry', 570), ('pretty', 566), ('decent', 565), ('earth', 563), ('cab', 555), ('solid', 549), ('cedar', 543), ('pepper', 537), ('fruity', 528), ('strong', 522), ('integrated', 520), ('bad', 503), ('pleasant', 502), ('coffee', 499), ('ruby', 484), ('young', 470), ('second', 469), ('decant', 465), ('short', 456), ('heat', 447), ('cocoa', 441), ('leather', 436), ('dry', 435), ('minute', 431), ('vintage', 425), ('easy', 423), ('cassis', 419), ('enjoyed', 419), ('forward', 413), ('feel', 411), ('slight', 400), ('spicy', 400), ('style', 397), ('silky', 397), ('tight', 393), ('le', 391), ('green', 388), ('earthy', 388), ('lush', 388), ('left', 386), ('popped', 384), ('hot', 379), ('past', 379), ('also', 379), ('high', 377), ('thin', 362), ('garnet', 359), ('pride', 356), ('licorice', 353), ('come', 351), ('made', 343), ('couple', 343), ('ca', 339), ('bright', 331), ('texture', 326), ('round', 324), ('say', 318), ('hold', 312), ('herb', 311), ('old', 309)]\n"
     ]
    }
   ],
   "source": [
    "# Merlot : data[111]\n",
    "\n",
    "\n",
    "x = data[111][1]\n",
    "sorted_x = sorted(x.items(), key=operator.itemgetter(1), reverse=True)\n",
    "print(sorted_x)"
   ]
  },
  {
   "cell_type": "code",
   "execution_count": null,
   "metadata": {
    "collapsed": true
   },
   "outputs": [],
   "source": [
    "# Merlot 5 Words: \n",
    "cherry \n",
    "oak \n",
    "chocolate \n",
    "plum \n",
    "vanilla"
   ]
  },
  {
   "cell_type": "code",
   "execution_count": 7,
   "metadata": {},
   "outputs": [
    {
     "name": "stdout",
     "output_type": "stream",
     "text": [
      "[('cherry', 56757), ('spice', 25978), ('dark', 21965), ('acidity', 19905), ('light', 18089), ('medium', 17748), ('tannin', 16945), ('strawberry', 13345), ('earth', 12748), ('raspberry', 12573), ('sweet', 11109), ('balanced', 11005), ('balance', 10442), ('oak', 9982), ('ripe', 9501), ('berry', 9411), ('smooth', 8965), ('aroma', 8723), ('big', 8637), ('rich', 8558), ('bright', 8420), ('tart', 7913), ('cola', 7821), ('ruby', 7589), ('earthy', 7286), ('open', 6611), ('bodied', 6221), ('complex', 6140), ('complexity', 5904), ('deep', 5809), ('body', 5791), ('pretty', 5779), ('structure', 5732), ('young', 5568), ('style', 5546), ('mineral', 5424), ('soft', 5323), ('floral', 5203), ('heat', 5199), ('elegant', 5019), ('cranberry', 4924), ('enjoyable', 4879), ('point', 4761), ('fresh', 4733), ('plum', 4723), ('vanilla', 4708), ('night', 4690), ('spicy', 4671), ('vintage', 4461), ('burgundy', 4301), ('silky', 4248), ('also', 4157), ('le', 4143), ('high', 4048), ('sour', 3965), ('come', 3938), ('texture', 3855), ('depth', 3760), ('tight', 3743), ('smoke', 3663), ('forward', 3552), ('feel', 3539), ('slight', 3496), ('blackberry', 3477), ('pleasant', 3451), ('strong', 3432), ('fruity', 3412), ('minute', 3399), ('decent', 3385), ('forest', 3313), ('short', 3238), ('enjoyed', 3238), ('pepper', 3213), ('solid', 3183), ('hot', 3172), ('couple', 3148), ('popped', 3073), ('garnet', 3064), ('integrated', 3037), ('second', 3031), ('weight', 3010), ('mushroom', 2983), ('pure', 2941), ('made', 2920), ('bad', 2912), ('thin', 2908), ('cinnamon', 2906), ('simple', 2897), ('ca', 2872), ('give', 2862), ('funk', 2858), ('floor', 2852), ('oregon', 2832), ('clear', 2831), ('decant', 2737), ('along', 2725), ('hold', 2710), ('midpalate', 2679), ('value', 2658), ('profile', 2623)]\n"
     ]
    }
   ],
   "source": [
    "# Pinot Noir : data[171]\n",
    "\n",
    "\n",
    "x = data[171][1]\n",
    "sorted_x = sorted(x.items(), key=operator.itemgetter(1), reverse=True)\n",
    "print(sorted_x)"
   ]
  },
  {
   "cell_type": "code",
   "execution_count": null,
   "metadata": {
    "collapsed": true
   },
   "outputs": [],
   "source": [
    "# Pinot Noir 5 Words: \n",
    "cherry \n",
    "spice\n",
    "strawberry \n",
    "earth \n",
    "raspberry "
   ]
  },
  {
   "cell_type": "code",
   "execution_count": 8,
   "metadata": {},
   "outputs": [
    {
     "name": "stdout",
     "output_type": "stream",
     "text": [
      "[('acidity', 7688), ('apple', 5669), ('sweet', 5146), ('mineral', 4655), ('light', 3636), ('peach', 3545), ('citrus', 3447), ('petrol', 3317), ('sweetness', 2913), ('lemon', 2853), ('dry', 2689), ('balance', 2634), ('pear', 2614), ('minerality', 2594), ('lime', 2540), ('green', 2414), ('medium', 2303), ('honey', 2245), ('yellow', 2105), ('balanced', 2078), ('fresh', 1867), ('ripe', 1682), ('aroma', 1637), ('crisp', 1633), ('stone', 1601), ('tropical', 1558), ('floral', 1542), ('rich', 1532), ('apricot', 1484), ('pineapple', 1307), ('pale', 1306), ('slate', 1267), ('clean', 1196), ('bright', 1196), ('grapefruit', 1190), ('flower', 1176), ('young', 1145), ('complex', 1127), ('kabinett', 1109), ('tart', 1031), ('sugar', 1010), ('refreshing', 953), ('slight', 944), ('golden', 920), ('body', 857), ('spice', 837), ('vintage', 836), ('orange', 821), ('complexity', 817), ('spicy', 806), ('flavour', 806), ('gold', 796), ('straw', 794), ('le', 790), ('pretty', 750), ('point', 738), ('enjoyable', 732), ('value', 730), ('open', 722), ('also', 713), ('depth', 712), ('bodied', 710), ('intense', 702), ('come', 689), ('qpr', 678), ('high', 671), ('simple', 658), ('spatlese', 652), ('german', 644), ('feel', 642), ('pure', 635), ('texture', 628), ('acidic', 628), ('clear', 627), ('night', 594), ('weight', 593), ('big', 585), ('pleasant', 580), ('elegant', 574), ('keep', 555), ('strong', 552), ('style', 547), ('creamy', 546), ('mosel', 546), ('tone', 545), ('wet', 540), ('soft', 526), ('fruity', 519), ('level', 509), ('plenty', 508), ('perhaps', 502), ('smooth', 497), ('short', 496), ('decent', 491), ('deep', 490), ('intensity', 489), ('along', 486), ('offdry', 485), ('easy', 482), ('residual', 481)]\n"
     ]
    }
   ],
   "source": [
    "# Riesling : data[187]\n",
    "\n",
    "\n",
    "x = data[187][1]\n",
    "sorted_x = sorted(x.items(), key=operator.itemgetter(1), reverse=True)\n",
    "print(sorted_x)"
   ]
  },
  {
   "cell_type": "code",
   "execution_count": null,
   "metadata": {
    "collapsed": true
   },
   "outputs": [],
   "source": [
    "# Riesling 5 Words: \n",
    "apple \n",
    "mineral \n",
    "peach \n",
    "citrus \n",
    "petrol "
   ]
  },
  {
   "cell_type": "code",
   "execution_count": 9,
   "metadata": {},
   "outputs": [
    {
     "name": "stdout",
     "output_type": "stream",
     "text": [
      "[('grapefruit', 4400), ('citrus', 3938), ('acidity', 3846), ('sb', 2774), ('crisp', 2579), ('lemon', 2442), ('light', 2341), ('grass', 2232), ('mineral', 1750), ('lime', 1596), ('green', 1559), ('tropical', 1555), ('nz', 1370), ('apple', 1370), ('fresh', 1353), ('medium', 1328), ('grassy', 1276), ('clean', 1157), ('aroma', 1100), ('refreshing', 1056), ('balanced', 1050), ('gooseberry', 1011), ('minerality', 994), ('sweet', 985), ('yellow', 960), ('pale', 953), ('balance', 927), ('peach', 889), ('pear', 873), ('tart', 857), ('bright', 830), ('sauv', 804), ('summer', 792), ('straw', 776), ('pineapple', 769), ('body', 718), ('le', 714), ('dry', 676), ('floral', 663), ('oak', 658), ('value', 642), ('acidic', 628), ('rich', 624), ('typical', 596), ('strong', 565), ('vintage', 551), ('qpr', 549), ('complex', 540), ('style', 525), ('fruity', 520), ('stone', 520), ('ripe', 518), ('cut', 515), ('clear', 492), ('sancerre', 490), ('bodied', 481), ('enjoyable', 469), ('pleasant', 460), ('high', 458), ('smooth', 457), ('enjoyed', 443), ('also', 443), ('slight', 442), ('big', 441), ('honey', 439), ('creamy', 435), ('consistent', 432), ('point', 430), ('pretty', 428), ('complexity', 423), ('zealand', 394), ('kiwi', 379), ('intense', 378), ('decent', 376), ('apricot', 369), ('pepper', 366), ('cat', 363), ('solid', 360), ('flower', 356), ('herb', 356), ('classic', 356), ('feel', 354), ('paired', 347), ('flavour', 347), ('favorite', 343), ('soft', 332), ('bad', 330), ('zest', 324), ('made', 313), ('round', 308), ('sweetness', 307), ('texture', 305), ('short', 303), ('pee', 302), ('quality', 301), ('marlborough', 296), ('herbal', 296), ('easy', 294), ('without', 285), ('kim', 284)]\n"
     ]
    }
   ],
   "source": [
    "# Sauvignon Blanc : data[202]\n",
    "\n",
    "\n",
    "x = data[202][1]\n",
    "sorted_x = sorted(x.items(), key=operator.itemgetter(1), reverse=True)\n",
    "print(sorted_x)"
   ]
  },
  {
   "cell_type": "code",
   "execution_count": null,
   "metadata": {
    "collapsed": true
   },
   "outputs": [],
   "source": [
    "# Sauvignon Blanc 5 Words: \n",
    "grapefruit  \n",
    "crisp\n",
    "lemon \n",
    "grass\n",
    "mineral "
   ]
  },
  {
   "cell_type": "code",
   "execution_count": 10,
   "metadata": {},
   "outputs": [
    {
     "name": "stdout",
     "output_type": "stream",
     "text": [
      "[('dark', 6816), ('spice', 6537), ('cherry', 4978), ('pepper', 4674), ('tannin', 4594), ('berry', 3921), ('big', 3713), ('blackberry', 3407), ('smooth', 3112), ('sweet', 3055), ('medium', 2994), ('raspberry', 2984), ('balanced', 2915), ('oak', 2703), ('acidity', 2696), ('rich', 2590), ('jammy', 2445), ('heat', 2290), ('spicy', 2273), ('balance', 2205), ('ripe', 2194), ('zins', 2062), ('vanilla', 2037), ('turley', 2031), ('plum', 2012), ('hot', 2002), ('light', 1917), ('chocolate', 1850), ('deep', 1731), ('aroma', 1621), ('bodied', 1583), ('fruity', 1517), ('purple', 1494), ('body', 1411), ('enjoyable', 1382), ('high', 1344), ('open', 1305), ('complex', 1298), ('blueberry', 1287), ('night', 1235), ('structure', 1229), ('soft', 1169), ('forward', 1144), ('style', 1115), ('pretty', 1086), ('bright', 1067), ('point', 1046), ('enjoyed', 1016), ('strong', 1001), ('ruby', 998), ('solid', 998), ('brambly', 954), ('old', 949), ('peppery', 945), ('bad', 931), ('qpr', 927), ('le', 920), ('value', 912), ('complexity', 900), ('licorice', 892), ('decent', 877), ('also', 872), ('young', 862), ('dry', 852), ('vintage', 835), ('earth', 833), ('integrated', 831), ('minute', 830), ('second', 830), ('top', 827), ('made', 812), ('strawberry', 811), ('feel', 797), ('come', 794), ('jam', 786), ('carlisle', 783), ('favorite', 780), ('typical', 763), ('pleasant', 758), ('without', 756), ('decant', 741), ('bramble', 723), ('bomb', 713), ('couple', 707), ('short', 703), ('juicy', 699), ('popped', 690), ('easy', 687), ('fresh', 678), ('past', 668), ('say', 667), ('liked', 644), ('slight', 635), ('tannic', 629), ('elegant', 629), ('garnet', 624), ('smoke', 623), ('tart', 623), ('huge', 623), ('went', 619)]\n"
     ]
    }
   ],
   "source": [
    "# Zinfindel : data[261]\n",
    "\n",
    "x = data[261][1]\n",
    "sorted_x = sorted(x.items(), key=operator.itemgetter(1), reverse=True)\n",
    "print(sorted_x)"
   ]
  },
  {
   "cell_type": "code",
   "execution_count": null,
   "metadata": {
    "collapsed": true
   },
   "outputs": [],
   "source": [
    "# Zinfindel 5 Words: \n",
    "cherry \n",
    "pepper \n",
    "blackberry \n",
    "raspberry \n",
    "jammy  "
   ]
  }
 ],
 "metadata": {
  "kernelspec": {
   "display_name": "Python 3",
   "language": "python",
   "name": "python3"
  },
  "language_info": {
   "codemirror_mode": {
    "name": "ipython",
    "version": 3
   },
   "file_extension": ".py",
   "mimetype": "text/x-python",
   "name": "python",
   "nbconvert_exporter": "python",
   "pygments_lexer": "ipython3",
   "version": "3.6.3"
  }
 },
 "nbformat": 4,
 "nbformat_minor": 2
}
