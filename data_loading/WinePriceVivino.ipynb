{
 "cells": [
  {
   "cell_type": "code",
   "execution_count": 9,
   "metadata": {
    "collapsed": true
   },
   "outputs": [],
   "source": [
    "import sqlite3\n",
    "import csv\n",
    "import pandas as pd\n",
    "\n",
    "con = sqlite3.connect('../WineApp/data_loading/wineapp.db')\n",
    "cur = con.cursor()\n",
    "sql = '''SELECT wine_wineId,wine_name_search, qty_reviews\n",
    "           FROM wines\n",
    "          ORDER BY qty_reviews desc'''\n",
    "wine_df = pd.read_sql(sql, con)\n",
    "con.commit()"
   ]
  },
  {
   "cell_type": "code",
   "execution_count": 48,
   "metadata": {},
   "outputs": [
    {
     "data": {
      "text/html": [
       "<div>\n",
       "<style>\n",
       "    .dataframe thead tr:only-child th {\n",
       "        text-align: right;\n",
       "    }\n",
       "\n",
       "    .dataframe thead th {\n",
       "        text-align: left;\n",
       "    }\n",
       "\n",
       "    .dataframe tbody tr th {\n",
       "        vertical-align: top;\n",
       "    }\n",
       "</style>\n",
       "<table border=\"1\" class=\"dataframe\">\n",
       "  <thead>\n",
       "    <tr style=\"text-align: right;\">\n",
       "      <th></th>\n",
       "      <th>wine_wineId</th>\n",
       "      <th>wine_name_search</th>\n",
       "      <th>qty_reviews</th>\n",
       "    </tr>\n",
       "  </thead>\n",
       "  <tbody>\n",
       "    <tr>\n",
       "      <th>37256</th>\n",
       "      <td>1086588</td>\n",
       "      <td>2009+testarossa+pinot+noir+santa+barbara+county</td>\n",
       "      <td>10</td>\n",
       "    </tr>\n",
       "  </tbody>\n",
       "</table>\n",
       "</div>"
      ],
      "text/plain": [
       "      wine_wineId                                 wine_name_search  \\\n",
       "37256     1086588  2009+testarossa+pinot+noir+santa+barbara+county   \n",
       "\n",
       "       qty_reviews  \n",
       "37256           10  "
      ]
     },
     "execution_count": 48,
     "metadata": {},
     "output_type": "execute_result"
    }
   ],
   "source": [
    "wine_df.loc[wine_df['wine_wineId'] == '1086588']"
   ]
  },
  {
   "cell_type": "code",
   "execution_count": 30,
   "metadata": {},
   "outputs": [
    {
     "data": {
      "text/plain": [
       "3625                                 2000+chateau+martinens\n",
       "3626      2007+kosta+browne+pinot+noir+amber+ridge+vineyard\n",
       "3627      2003+beaux+freres+pinot+noir+beaux+freres+vine...\n",
       "3628                         2007+pax+syrah+cuvee+christine\n",
       "3629         2003+domaine+chante+cigale+chateauneuf-du-pape\n",
       "3630      2006+chateau+st+jean+cabernet+sauvignon+cinq+c...\n",
       "3631      2001+alban+vineyards+syrah+reva+alban+estate+v...\n",
       "3632               1997+bollinger+champagne+la+grande+annee\n",
       "3633              2007+shafer+chardonnay+red+shoulder+ranch\n",
       "3634       2002+anderson's+conn+valley+vineyards+right+bank\n",
       "3635                               2001+carruades+de+lafite\n",
       "3636             2007+merry+edwards+pinot+noir+sonoma+coast\n",
       "3637                2001+poderi+aldo+conterno+barolo+cicala\n",
       "3638                                 2007+dow+porto+vintage\n",
       "3639      2008+domaine+la+garrigue+cotes+du+rhone+cuvee+...\n",
       "3640           2007+fort+ross+pinot+noir+fort+ross+vineyard\n",
       "3641              2003+jl+chave+selection+st+joseph+offerus\n",
       "3642                               1989+krug+champagne+brut\n",
       "3643                       2000+bressler+cabernet+sauvignon\n",
       "3644              2003+saxum+bone+rock+james+berry+vineyard\n",
       "3645          1999+pine+ridge+cabernet+sauvignon+rutherford\n",
       "3646                2007+louis+m+martini+cabernet+sauvignon\n",
       "3647                        2008+falesco+vitiano+umbria+igt\n",
       "3648                   2000+sine+qua+non+syrah+in+flagrante\n",
       "3649                         2007+duckhorn+vineyards+merlot\n",
       "3650      2009+bodegas+escorihuela+gascon+malbec+don+mig...\n",
       "3651      2007+audelssa+estate+winery+cabernet+sauvignon...\n",
       "3652                    2007+frog's+leap+cabernet+sauvignon\n",
       "3653      1998+chateau+la+nerthe+chateauneuf-du-pape+cuv...\n",
       "3654      2007+zero+one+vintners+cabernet+sauvignon+the+...\n",
       "                                ...                        \n",
       "485515    1997+spring+mountain+vineyard+miravalle-la+per...\n",
       "485516                                 2009+bisson+prosecco\n",
       "485517    2006+vina+bisquertt+carmenere+casa+la+joya+gra...\n",
       "485518    2006+bodegas+y+vinedos+valtravieso+tinto+fino+...\n",
       "485519                               2009+lioco+indica+rose\n",
       "485520    2009+domaine+la+grange+tiphaine+vin+de+table+f...\n",
       "485521               1995+coltibuono+trappoline+toscana+igt\n",
       "485522                                  2007+alvento+sondra\n",
       "485523                  2009+singing+water+vineyards+merlot\n",
       "485524    2008+christophe+buisson+st+romain+sous+le+chateau\n",
       "485525    2008+yellow+tail+shiraz+reserve+-+special+sele...\n",
       "485526                     2009+guido+porro+langhe+nebbiolo\n",
       "485527                  2006+ramseyer+vineyards+vintage+two\n",
       "485528                                1982+chateau+lassegue\n",
       "485529                     2006+yuroke+vineyards+pinot+noir\n",
       "485530    1969+louis+m+martini+cabernet+sauvignon+califo...\n",
       "485531      2003+louis+jadot+volnay+1er+cru+clos+des+chenes\n",
       "485532    2005+yalumba+grenache+vine+vale+tri-centenary+...\n",
       "485533                        2008+shadowfax+shiraz+one+eye\n",
       "485534                        2007+messina+hof+chenin+blanc\n",
       "485535                         2007+milliaire+cellars+syrah\n",
       "485536                            nv+eleven+pinot+gris+port\n",
       "485537                            2007+bodega+del+sur+syrah\n",
       "485538                   1998+joseph+drouhin+pouilly-fuisse\n",
       "485539      2008+auriga+cellars+zinfandel+sumu+kaw+vineyard\n",
       "485540                           2007+auriga+cellars+shiraz\n",
       "485541               2005+monte+ducay+carinena+gran+reserva\n",
       "485542                  2005+cg+di+arie+syrah+amador+county\n",
       "485543    2000+monte+zovo+amarone+della+valpolicella+cla...\n",
       "485544                                 2004+hollick+hollaia\n",
       "Name: wine_name_search, Length: 481920, dtype: object"
      ]
     },
     "execution_count": 30,
     "metadata": {},
     "output_type": "execute_result"
    }
   ],
   "source": [
    "wine_df['wine_name_search'].iloc[3660:]"
   ]
  },
  {
   "cell_type": "code",
   "execution_count": 24,
   "metadata": {},
   "outputs": [
    {
     "data": {
      "text/plain": [
       "3591      341941\n",
       "3592      345031\n",
       "3593      348372\n",
       "3594        3579\n",
       "3595      358141\n",
       "3596      358146\n",
       "3597      363904\n",
       "3598      368229\n",
       "3599      369059\n",
       "3600      370169\n",
       "3601      378138\n",
       "3602      379733\n",
       "3603        3855\n",
       "3604      386164\n",
       "3605      393578\n",
       "3606        3963\n",
       "3607      400000\n",
       "3608        4037\n",
       "3609      412000\n",
       "3610      418590\n",
       "3611      426831\n",
       "3612        4478\n",
       "3613      457167\n",
       "3614       45920\n",
       "3615      463645\n",
       "3616      467229\n",
       "3617       48425\n",
       "3618        4866\n",
       "3619      495091\n",
       "3620      508486\n",
       "           ...  \n",
       "485515    999611\n",
       "485516    999621\n",
       "485517    999624\n",
       "485518    999625\n",
       "485519    999626\n",
       "485520    999628\n",
       "485521     99963\n",
       "485522    999642\n",
       "485523    999643\n",
       "485524    999650\n",
       "485525    999653\n",
       "485526    999654\n",
       "485527    999662\n",
       "485528    999668\n",
       "485529    999694\n",
       "485530    999705\n",
       "485531     99971\n",
       "485532    999713\n",
       "485533    999745\n",
       "485534    999815\n",
       "485535    999825\n",
       "485536    999828\n",
       "485537    999849\n",
       "485538     99986\n",
       "485539    999865\n",
       "485540    999880\n",
       "485541    999919\n",
       "485542    999957\n",
       "485543     99998\n",
       "485544    999988\n",
       "Name: wine_wineId, Length: 481954, dtype: object"
      ]
     },
     "execution_count": 24,
     "metadata": {},
     "output_type": "execute_result"
    }
   ],
   "source": [
    "wine_df['wine_wineId'].iloc[3625:]"
   ]
  },
  {
   "cell_type": "code",
   "execution_count": 49,
   "metadata": {},
   "outputs": [
    {
     "name": "stdout",
     "output_type": "stream",
     "text": [
      "died\n",
      "died\n",
      "died\n",
      "died\n"
     ]
    },
    {
     "ename": "KeyboardInterrupt",
     "evalue": "",
     "output_type": "error",
     "traceback": [
      "\u001b[0;31m---------------------------------------------------------------------------\u001b[0m",
      "\u001b[0;31mKeyboardInterrupt\u001b[0m                         Traceback (most recent call last)",
      "\u001b[0;32m<ipython-input-49-eb51ce78c69a>\u001b[0m in \u001b[0;36m<module>\u001b[0;34m()\u001b[0m\n\u001b[1;32m     22\u001b[0m     \u001b[0mwine_name\u001b[0m \u001b[0;34m=\u001b[0m \u001b[0mstr\u001b[0m\u001b[0;34m(\u001b[0m\u001b[0mwine_search\u001b[0m\u001b[0;34m)\u001b[0m\u001b[0;34m.\u001b[0m\u001b[0mreplace\u001b[0m\u001b[0;34m(\u001b[0m\u001b[0;34m'-'\u001b[0m\u001b[0;34m,\u001b[0m\u001b[0;34m'+'\u001b[0m\u001b[0;34m)\u001b[0m\u001b[0;34m\u001b[0m\u001b[0m\n\u001b[1;32m     23\u001b[0m     \u001b[0mwine_name\u001b[0m \u001b[0;34m=\u001b[0m \u001b[0mre\u001b[0m\u001b[0;34m.\u001b[0m\u001b[0msub\u001b[0m\u001b[0;34m(\u001b[0m\u001b[0;34mr'[^a-zA-Z\\d\\s\\+]'\u001b[0m\u001b[0;34m,\u001b[0m \u001b[0;34mu''\u001b[0m\u001b[0;34m,\u001b[0m \u001b[0mstr\u001b[0m\u001b[0;34m(\u001b[0m\u001b[0mwine_name\u001b[0m\u001b[0;34m)\u001b[0m\u001b[0;34m,\u001b[0m \u001b[0mflags\u001b[0m\u001b[0;34m=\u001b[0m\u001b[0mre\u001b[0m\u001b[0;34m.\u001b[0m\u001b[0mUNICODE\u001b[0m\u001b[0;34m)\u001b[0m\u001b[0;34m\u001b[0m\u001b[0m\n\u001b[0;32m---> 24\u001b[0;31m     \u001b[0mtime\u001b[0m\u001b[0;34m.\u001b[0m\u001b[0msleep\u001b[0m\u001b[0;34m(\u001b[0m\u001b[0;36m1\u001b[0m\u001b[0;34m+\u001b[0m\u001b[0mnp\u001b[0m\u001b[0;34m.\u001b[0m\u001b[0mrandom\u001b[0m\u001b[0;34m.\u001b[0m\u001b[0muniform\u001b[0m\u001b[0;34m(\u001b[0m\u001b[0;36m0\u001b[0m\u001b[0;34m,\u001b[0m\u001b[0;36m1\u001b[0m\u001b[0;34m)\u001b[0m\u001b[0;34m)\u001b[0m\u001b[0;34m\u001b[0m\u001b[0m\n\u001b[0m\u001b[1;32m     25\u001b[0m \u001b[0;34m\u001b[0m\u001b[0m\n\u001b[1;32m     26\u001b[0m     \u001b[0mbrowser\u001b[0m\u001b[0;34m.\u001b[0m\u001b[0mget\u001b[0m\u001b[0;34m(\u001b[0m\u001b[0;34m'https://www.vivino.com/search/wines?q='\u001b[0m\u001b[0;34m+\u001b[0m\u001b[0mstr\u001b[0m\u001b[0;34m(\u001b[0m\u001b[0mwine_name\u001b[0m\u001b[0;34m)\u001b[0m\u001b[0;34m)\u001b[0m\u001b[0;34m\u001b[0m\u001b[0m\n",
      "\u001b[0;31mKeyboardInterrupt\u001b[0m: "
     ]
    }
   ],
   "source": [
    "import time\n",
    "import requests\n",
    "from bs4 import BeautifulSoup\n",
    "import random as random\n",
    "import numpy as np\n",
    "import re\n",
    "from selenium import webdriver\n",
    "browser = webdriver.Chrome('/Users/bgodd/Desktop/Brown_Data_Science/data1030/FinalProject/chromedriver')  \n",
    "\n",
    "starting_wine_id = 37256\n",
    "\n",
    "i=0\n",
    "for wine_search, wine_id in zip(wine_df['wine_name_search'].iloc[starting_wine_id:], wine_df['wine_wineId'].iloc[starting_wine_id:]):\n",
    "#for wine_search, wine_id in zip(wine_df['wine_name_search'], wine_df['wine_wineId']):\n",
    "\n",
    "    #print(wine_search)\n",
    "    #print(wine_id)\n",
    "#     i+=1\n",
    "    \n",
    "#     if i>3:\n",
    "#         break\n",
    "    wine_name = str(wine_search).replace('-','+')\n",
    "    wine_name = re.sub(r'[^a-zA-Z\\d\\s\\+]', u'', str(wine_name), flags=re.UNICODE)\n",
    "    time.sleep(1+np.random.uniform(0,1))\n",
    "    \n",
    "    browser.get('https://www.vivino.com/search/wines?q='+str(wine_name))\n",
    "    \n",
    "    try:\n",
    "        wine_price = str(browser.find_elements_by_xpath('.//span[@class = \"wine-price-value\"]')[0].text)\n",
    "        wine_match = str(browser.find_elements_by_xpath('.//span[@class = \"header-smaller text-block wine-card__name\"]')[0].text)\n",
    "        wine_location = str(browser.find_elements_by_xpath('.//span[@class = \"text-block wine-card__region\"]')[0].text)\n",
    "        \n",
    "    except:\n",
    "        print ('died')\n",
    "        scraped_wines  = open('readWines.txt', 'a')\n",
    "        scraped_wines.write(str(wine_id)+','+str(wine_name)+','+'FAIL'+'\\n') \n",
    "        scraped_wines.close()\n",
    "        time.sleep(60)\n",
    "        continue\n",
    "        \n",
    "    scraped_wines  = open('readWines.txt', 'a')\n",
    "    scraped_wines.write(str(wine_id)+','+str(wine_name)+','+str(wine_match)+','+str(wine_price)+','+str(wine_location)+'\\n') \n",
    "    scraped_wines.close()\n",
    "\n",
    "# browser.quit()"
   ]
  },
  {
   "cell_type": "code",
   "execution_count": 37,
   "metadata": {},
   "outputs": [
    {
     "name": "stdout",
     "output_type": "stream",
     "text": [
      "False\n",
      "Krug Champagne Brut 1990\n",
      "Champagne · France\n"
     ]
    },
    {
     "ename": "AttributeError",
     "evalue": "'list' object has no attribute 'text'",
     "output_type": "error",
     "traceback": [
      "\u001b[0;31m---------------------------------------------------------------------------\u001b[0m",
      "\u001b[0;31mAttributeError\u001b[0m                            Traceback (most recent call last)",
      "\u001b[0;32m<ipython-input-37-6741c4b78d91>\u001b[0m in \u001b[0;36m<module>\u001b[0;34m()\u001b[0m\n\u001b[1;32m     15\u001b[0m \u001b[0;34m\u001b[0m\u001b[0m\n\u001b[1;32m     16\u001b[0m \u001b[0mprint\u001b[0m\u001b[0;34m(\u001b[0m\u001b[0mbrowser\u001b[0m\u001b[0;34m.\u001b[0m\u001b[0mfind_elements_by_xpath\u001b[0m\u001b[0;34m(\u001b[0m\u001b[0;34m'.//span[@class = \"text-block wine-card__region\"]'\u001b[0m\u001b[0;34m)\u001b[0m\u001b[0;34m[\u001b[0m\u001b[0;36m0\u001b[0m\u001b[0;34m]\u001b[0m\u001b[0;34m.\u001b[0m\u001b[0mtext\u001b[0m\u001b[0;34m)\u001b[0m\u001b[0;34m\u001b[0m\u001b[0m\n\u001b[0;32m---> 17\u001b[0;31m \u001b[0mprint\u001b[0m\u001b[0;34m(\u001b[0m\u001b[0mbrowser\u001b[0m\u001b[0;34m.\u001b[0m\u001b[0mfind_elements_by_xpath\u001b[0m\u001b[0;34m(\u001b[0m\u001b[0;34m'.//span[@class = \"text-inline-block light average__number\"]'\u001b[0m\u001b[0;34m)\u001b[0m\u001b[0;34m.\u001b[0m\u001b[0mtext\u001b[0m\u001b[0;34m)\u001b[0m\u001b[0;34m\u001b[0m\u001b[0m\n\u001b[0m\u001b[1;32m     18\u001b[0m \u001b[0mprint\u001b[0m\u001b[0;34m(\u001b[0m\u001b[0mbrowser\u001b[0m\u001b[0;34m.\u001b[0m\u001b[0mfind_elements_by_xpath\u001b[0m\u001b[0;34m(\u001b[0m\u001b[0;34m'.//span[@class = \"text-micro\"]'\u001b[0m\u001b[0;34m)\u001b[0m\u001b[0;34m.\u001b[0m\u001b[0mtext\u001b[0m\u001b[0;34m)\u001b[0m\u001b[0;34m\u001b[0m\u001b[0m\n\u001b[1;32m     19\u001b[0m \u001b[0;34m\u001b[0m\u001b[0m\n",
      "\u001b[0;31mAttributeError\u001b[0m: 'list' object has no attribute 'text'"
     ]
    }
   ],
   "source": [
    "import time\n",
    "import requests\n",
    "from bs4 import BeautifulSoup\n",
    "import random as random\n",
    "import numpy as np\n",
    "from selenium import webdriver\n",
    "browser = webdriver.Chrome('/Users/bgodd/Desktop/Brown_Data_Science/data1030/FinalProject/chromedriver')  \n",
    "\n",
    "\n",
    "browser.get('https://www.vivino.com/search/wines?q=1990+Krug+Champagne+Brut%2CChampagne+Blend')  \n",
    "print(browser.find_elements_by_xpath('.//span[@class = \"wine-price-value\"]')[0].text == True)\n",
    "\n",
    "\n",
    "print(browser.find_elements_by_xpath('.//span[@class = \"header-smaller text-block wine-card__name\"]')[0].text)\n",
    "\n",
    "print(browser.find_elements_by_xpath('.//span[@class = \"text-block wine-card__region\"]')[0].text)\n",
    "time.sleep(1)\n",
    "print(browser.title )\n",
    "#browser.quit()"
   ]
  },
  {
   "cell_type": "code",
   "execution_count": 8,
   "metadata": {},
   "outputs": [
    {
     "data": {
      "text/plain": [
       "'1996+moet++chandon+champagne+cuvee+dom+perignon'"
      ]
     },
     "execution_count": 8,
     "metadata": {},
     "output_type": "execute_result"
    }
   ],
   "source": [
    "test_str = '1996+moet+&+chandon+champagne+cuvee+dom+perignon'\n",
    "test_str.replace('&','')"
   ]
  },
  {
   "cell_type": "code",
   "execution_count": 28,
   "metadata": {},
   "outputs": [
    {
     "name": "stdout",
     "output_type": "stream",
     "text": [
      "2003+taylor+fladgate+porto+late+bottled+vintage\n"
     ]
    }
   ],
   "source": [
    "import re\n",
    "test_str = '2003+taylor+(fladgate)+porto+late+bottled+vintage'\n",
    "result = re.sub(r'[^a-zA-Z\\d\\s\\+]', u'', test_str, flags=re.UNICODE)\n",
    "print(result)"
   ]
  },
  {
   "cell_type": "code",
   "execution_count": null,
   "metadata": {
    "collapsed": true
   },
   "outputs": [],
   "source": []
  }
 ],
 "metadata": {
  "kernelspec": {
   "display_name": "Python 3",
   "language": "python",
   "name": "python3"
  },
  "language_info": {
   "codemirror_mode": {
    "name": "ipython",
    "version": 3
   },
   "file_extension": ".py",
   "mimetype": "text/x-python",
   "name": "python",
   "nbconvert_exporter": "python",
   "pygments_lexer": "ipython3",
   "version": "3.6.1"
  }
 },
 "nbformat": 4,
 "nbformat_minor": 2
}
